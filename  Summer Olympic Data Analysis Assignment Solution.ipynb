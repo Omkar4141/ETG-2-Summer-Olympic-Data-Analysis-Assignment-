{
 "cells": [
  {
   "cell_type": "markdown",
   "id": "15e44617",
   "metadata": {},
   "source": [
    "# Summer Olympics Data Analysis Assignment Solution"
   ]
  },
  {
   "cell_type": "code",
   "execution_count": 4,
   "id": "34a30bad",
   "metadata": {},
   "outputs": [],
   "source": [
    "import pandas as p\n",
    "import matplotlib.pyplot as m\n",
    "import numpy as n\n",
    "import seaborn as sns"
   ]
  },
  {
   "cell_type": "code",
   "execution_count": 5,
   "id": "0c69bb45",
   "metadata": {},
   "outputs": [],
   "source": [
    "df=p.read_csv('Summer.csv')\n"
   ]
  },
  {
   "cell_type": "code",
   "execution_count": 6,
   "id": "082ddad8",
   "metadata": {},
   "outputs": [
    {
     "data": {
      "text/html": [
       "<div>\n",
       "<style scoped>\n",
       "    .dataframe tbody tr th:only-of-type {\n",
       "        vertical-align: middle;\n",
       "    }\n",
       "\n",
       "    .dataframe tbody tr th {\n",
       "        vertical-align: top;\n",
       "    }\n",
       "\n",
       "    .dataframe thead th {\n",
       "        text-align: right;\n",
       "    }\n",
       "</style>\n",
       "<table border=\"1\" class=\"dataframe\">\n",
       "  <thead>\n",
       "    <tr style=\"text-align: right;\">\n",
       "      <th></th>\n",
       "      <th>Year</th>\n",
       "      <th>City</th>\n",
       "      <th>Sport</th>\n",
       "      <th>Discipline</th>\n",
       "      <th>Athlete</th>\n",
       "      <th>Country</th>\n",
       "      <th>Gender</th>\n",
       "      <th>Event</th>\n",
       "      <th>Medal</th>\n",
       "    </tr>\n",
       "  </thead>\n",
       "  <tbody>\n",
       "    <tr>\n",
       "      <th>0</th>\n",
       "      <td>1896</td>\n",
       "      <td>Athens</td>\n",
       "      <td>Aquatics</td>\n",
       "      <td>Swimming</td>\n",
       "      <td>HAJOS, Alfred</td>\n",
       "      <td>HUN</td>\n",
       "      <td>Men</td>\n",
       "      <td>100M Freestyle</td>\n",
       "      <td>Gold</td>\n",
       "    </tr>\n",
       "    <tr>\n",
       "      <th>1</th>\n",
       "      <td>1896</td>\n",
       "      <td>Athens</td>\n",
       "      <td>Aquatics</td>\n",
       "      <td>Swimming</td>\n",
       "      <td>HERSCHMANN, Otto</td>\n",
       "      <td>AUT</td>\n",
       "      <td>Men</td>\n",
       "      <td>100M Freestyle</td>\n",
       "      <td>Silver</td>\n",
       "    </tr>\n",
       "    <tr>\n",
       "      <th>2</th>\n",
       "      <td>1896</td>\n",
       "      <td>Athens</td>\n",
       "      <td>Aquatics</td>\n",
       "      <td>Swimming</td>\n",
       "      <td>DRIVAS, Dimitrios</td>\n",
       "      <td>GRE</td>\n",
       "      <td>Men</td>\n",
       "      <td>100M Freestyle For Sailors</td>\n",
       "      <td>Bronze</td>\n",
       "    </tr>\n",
       "    <tr>\n",
       "      <th>3</th>\n",
       "      <td>1896</td>\n",
       "      <td>Athens</td>\n",
       "      <td>Aquatics</td>\n",
       "      <td>Swimming</td>\n",
       "      <td>MALOKINIS, Ioannis</td>\n",
       "      <td>GRE</td>\n",
       "      <td>Men</td>\n",
       "      <td>100M Freestyle For Sailors</td>\n",
       "      <td>Gold</td>\n",
       "    </tr>\n",
       "    <tr>\n",
       "      <th>4</th>\n",
       "      <td>1896</td>\n",
       "      <td>Athens</td>\n",
       "      <td>Aquatics</td>\n",
       "      <td>Swimming</td>\n",
       "      <td>CHASAPIS, Spiridon</td>\n",
       "      <td>GRE</td>\n",
       "      <td>Men</td>\n",
       "      <td>100M Freestyle For Sailors</td>\n",
       "      <td>Silver</td>\n",
       "    </tr>\n",
       "  </tbody>\n",
       "</table>\n",
       "</div>"
      ],
      "text/plain": [
       "   Year    City     Sport Discipline             Athlete Country Gender  \\\n",
       "0  1896  Athens  Aquatics   Swimming       HAJOS, Alfred     HUN    Men   \n",
       "1  1896  Athens  Aquatics   Swimming    HERSCHMANN, Otto     AUT    Men   \n",
       "2  1896  Athens  Aquatics   Swimming   DRIVAS, Dimitrios     GRE    Men   \n",
       "3  1896  Athens  Aquatics   Swimming  MALOKINIS, Ioannis     GRE    Men   \n",
       "4  1896  Athens  Aquatics   Swimming  CHASAPIS, Spiridon     GRE    Men   \n",
       "\n",
       "                        Event   Medal  \n",
       "0              100M Freestyle    Gold  \n",
       "1              100M Freestyle  Silver  \n",
       "2  100M Freestyle For Sailors  Bronze  \n",
       "3  100M Freestyle For Sailors    Gold  \n",
       "4  100M Freestyle For Sailors  Silver  "
      ]
     },
     "execution_count": 6,
     "metadata": {},
     "output_type": "execute_result"
    }
   ],
   "source": [
    "df.head()"
   ]
  },
  {
   "cell_type": "markdown",
   "id": "1a9eba10",
   "metadata": {},
   "source": [
    "# 1.In how many cities summer olympic head so far ?\n"
   ]
  },
  {
   "cell_type": "code",
   "execution_count": 8,
   "id": "4b00a7fe",
   "metadata": {},
   "outputs": [],
   "source": [
    "no_of_cities=len(df['City'].unique())"
   ]
  },
  {
   "cell_type": "code",
   "execution_count": 11,
   "id": "3a2a816d",
   "metadata": {},
   "outputs": [
    {
     "data": {
      "text/plain": [
       "22"
      ]
     },
     "execution_count": 11,
     "metadata": {},
     "output_type": "execute_result"
    }
   ],
   "source": [
    "no_of_cities"
   ]
  },
  {
   "cell_type": "markdown",
   "id": "03107c26",
   "metadata": {},
   "source": [
    "# 2. Which sport is having most number of Gold Medals so far? (Top 5)"
   ]
  },
  {
   "cell_type": "code",
   "execution_count": 14,
   "id": "7692b586",
   "metadata": {},
   "outputs": [],
   "source": [
    "more_gold_medal_sport=df.Sport[df.Medal=='Gold'].value_counts()"
   ]
  },
  {
   "cell_type": "code",
   "execution_count": 17,
   "id": "84796612",
   "metadata": {},
   "outputs": [
    {
     "data": {
      "text/plain": [
       "Aquatics      1421\n",
       "Athletics     1215\n",
       "Rowing         890\n",
       "Gymnastics     820\n",
       "Fencing        552\n",
       "Name: Sport, dtype: int64"
      ]
     },
     "execution_count": 17,
     "metadata": {},
     "output_type": "execute_result"
    }
   ],
   "source": [
    "more_gold_medal_sport.head()"
   ]
  },
  {
   "cell_type": "code",
   "execution_count": 18,
   "id": "c5b10f74",
   "metadata": {},
   "outputs": [
    {
     "data": {
      "text/plain": [
       "<AxesSubplot:title={'center':'Sport VS Gold Medals'}, xlabel='Sport', ylabel='No of Gold Medals'>"
      ]
     },
     "execution_count": 18,
     "metadata": {},
     "output_type": "execute_result"
    },
    {
     "data": {
      "image/png": "[encoded data removed]",
      "text/plain": [
       "<Figure size 720x360 with 1 Axes>"
      ]
     },
     "metadata": {
      "needs_background": "light"
     },
     "output_type": "display_data"
    }
   ],
   "source": [
    "more_gold_medal_sport.head().plot.bar(xlabel='Sport',ylabel='No of Gold Medals',title='Sport VS Gold Medals',color='green',grid=True,figsize=(10,5))"
   ]
  },
  {
   "cell_type": "markdown",
   "id": "e571325b",
   "metadata": {},
   "source": [
    "# 3. Which sport is having most number of medals so far? (Top 5)"
   ]
  },
  {
   "cell_type": "code",
   "execution_count": 19,
   "id": "9fa06240",
   "metadata": {},
   "outputs": [],
   "source": [
    "sports_have_more_Medals=df.Sport[df.Medal!=0].value_counts()"
   ]
  },
  {
   "cell_type": "code",
   "execution_count": 23,
   "id": "a49910af",
   "metadata": {},
   "outputs": [
    {
     "data": {
      "text/plain": [
       "Aquatics      4170\n",
       "Athletics     3638\n",
       "Rowing        2667\n",
       "Gymnastics    2307\n",
       "Fencing       1613\n",
       "Name: Sport, dtype: int64"
      ]
     },
     "execution_count": 23,
     "metadata": {},
     "output_type": "execute_result"
    }
   ],
   "source": [
    "sh=sports_have_more_Medals.head()\n",
    "sh"
   ]
  },
  {
   "cell_type": "code",
   "execution_count": 27,
   "id": "99d082dd",
   "metadata": {},
   "outputs": [
    {
     "data": {
      "text/plain": [
       "<AxesSubplot:title={'center':'Sport with more no of Gold Medals'}, xlabel='Sport', ylabel='Sport'>"
      ]
     },
     "execution_count": 27,
     "metadata": {},
     "output_type": "execute_result"
    },
    {
     "data": {
      "image/png": "[encoded data removed]",
      "text/plain": [
       "<Figure size 720x360 with 1 Axes>"
      ]
     },
     "metadata": {},
     "output_type": "display_data"
    }
   ],
   "source": [
    "m.figure(figsize=(10,5))\n",
    "m.xlabel(\"Sport\")\n",
    "m.ylabel(\"No of Medals\")\n",
    "m.title('Sport with more no of Gold Medals')\n",
    "sns.set(style='darkgrid')\n",
    "sns.barplot(x=sh.index,y=sh)"
   ]
  },
  {
   "cell_type": "markdown",
   "id": "2813c2ed",
   "metadata": {},
   "source": [
    "# 4. Which player has won most number of medals? (Top 5)"
   ]
  },
  {
   "cell_type": "code",
   "execution_count": 33,
   "id": "0c3395ba",
   "metadata": {},
   "outputs": [
    {
     "data": {
      "text/plain": [
       "PHELPS, Michael       22\n",
       "LATYNINA, Larisa      18\n",
       "ANDRIANOV, Nikolay    15\n",
       "SHAKHLIN, Boris       13\n",
       "ONO, Takashi          13\n",
       "Name: Athlete, dtype: int64"
      ]
     },
     "execution_count": 33,
     "metadata": {},
     "output_type": "execute_result"
    }
   ],
   "source": [
    "player_most_no_medal=df.Athlete[df.Medal!=0].value_counts()\n",
    "kk=player_most_no_medal.head()\n",
    "kk"
   ]
  },
  {
   "cell_type": "code",
   "execution_count": 40,
   "id": "f8da1c54",
   "metadata": {},
   "outputs": [
    {
     "data": {
      "text/plain": [
       "<AxesSubplot:title={'center':'Player with more no of  Medals'}, xlabel='Player', ylabel='Athlete'>"
      ]
     },
     "execution_count": 40,
     "metadata": {},
     "output_type": "execute_result"
    },
    {
     "data": {
      "image/png": "[encoded data removed]",
      "text/plain": [
       "<Figure size 720x360 with 1 Axes>"
      ]
     },
     "metadata": {},
     "output_type": "display_data"
    }
   ],
   "source": [
    "m.figure(figsize=(10,5))\n",
    "m.xlabel(\"Player\")\n",
    "m.ylabel(\"No of Medals\")\n",
    "m.title('Player with more no of  Medals')\n",
    "sns.set(style='darkgrid')\n",
    "sns.barplot(x=kk.index,y=kk)"
   ]
  },
  {
   "cell_type": "markdown",
   "id": "5e41058c",
   "metadata": {},
   "source": [
    "# 5. Which player has won most number Gold Medals of medals? (Top 5)"
   ]
  },
  {
   "cell_type": "code",
   "execution_count": 9,
   "id": "35db4344",
   "metadata": {},
   "outputs": [
    {
     "data": {
      "text/plain": [
       "PHELPS, Michael     18\n",
       "LEWIS, Carl          9\n",
       "SPITZ, Mark          9\n",
       "LATYNINA, Larisa     9\n",
       "NURMI, Paavo         9\n",
       "Name: Athlete, dtype: int64"
      ]
     },
     "execution_count": 9,
     "metadata": {},
     "output_type": "execute_result"
    }
   ],
   "source": [
    "player_with_most_gold_medals=df.Athlete[df.Medal == 'Gold'].value_counts()\n",
    "player_with_most_gold_medals.head()\n"
   ]
  },
  {
   "cell_type": "code",
   "execution_count": 12,
   "id": "a22639e2",
   "metadata": {},
   "outputs": [
    {
     "data": {
      "text/plain": [
       "<AxesSubplot:title={'center':'Player VS No of Gold Medals'}, xlabel='Players Name', ylabel='Number of Gold Medals'>"
      ]
     },
     "execution_count": 12,
     "metadata": {},
     "output_type": "execute_result"
    },
    {
     "data": {
      "image/png": "[encoded data removed]",
      "text/plain": [
       "<Figure size 720x360 with 1 Axes>"
      ]
     },
     "metadata": {
      "needs_background": "light"
     },
     "output_type": "display_data"
    }
   ],
   "source": [
    "player_with_most_gold_medals.head().plot.bar(xlabel='Players Name', ylabel='Number of Gold Medals',title=\"Player VS No of Gold Medals\",figsize=(10,5),color='yellow')\n"
   ]
  },
  {
   "cell_type": "markdown",
   "id": "e53bedf6",
   "metadata": {},
   "source": [
    "# 6. In which year India won first Gold Medal in Summer Olympics?"
   ]
  },
  {
   "cell_type": "code",
   "execution_count": 17,
   "id": "006eb762",
   "metadata": {},
   "outputs": [
    {
     "data": {
      "text/plain": [
       "1928"
      ]
     },
     "execution_count": 17,
     "metadata": {},
     "output_type": "execute_result"
    }
   ],
   "source": [
    "india_first_gold_year=df[(df.Country =='IND') & (df.Medal =='Gold')][['Year','Medal']]\n",
    "india_first_gold_year=india_first_gold_year.groupby('Year').count().reset_index()\n",
    "india_first_gold_year=india_first_gold_year.sort_values(by='Year',ascending='True').loc[0,'Year']\n",
    "india_first_gold_year\n"
   ]
  },
  {
   "cell_type": "markdown",
   "id": "830b7541",
   "metadata": {},
   "source": [
    "# 7. Which event is most popular in terms on number of players? (Top 5)"
   ]
  },
  {
   "cell_type": "code",
   "execution_count": 18,
   "id": "7f918247",
   "metadata": {},
   "outputs": [
    {
     "data": {
      "text/html": [
       "<div>\n",
       "<style scoped>\n",
       "    .dataframe tbody tr th:only-of-type {\n",
       "        vertical-align: middle;\n",
       "    }\n",
       "\n",
       "    .dataframe tbody tr th {\n",
       "        vertical-align: top;\n",
       "    }\n",
       "\n",
       "    .dataframe thead th {\n",
       "        text-align: right;\n",
       "    }\n",
       "</style>\n",
       "<table border=\"1\" class=\"dataframe\">\n",
       "  <thead>\n",
       "    <tr style=\"text-align: right;\">\n",
       "      <th></th>\n",
       "      <th>Event</th>\n",
       "      <th>Athlete</th>\n",
       "    </tr>\n",
       "  </thead>\n",
       "  <tbody>\n",
       "    <tr>\n",
       "      <th>477</th>\n",
       "      <td>Football</td>\n",
       "      <td>1497</td>\n",
       "    </tr>\n",
       "    <tr>\n",
       "      <th>489</th>\n",
       "      <td>Hockey</td>\n",
       "      <td>1422</td>\n",
       "    </tr>\n",
       "    <tr>\n",
       "      <th>614</th>\n",
       "      <td>Team Competition</td>\n",
       "      <td>1147</td>\n",
       "    </tr>\n",
       "    <tr>\n",
       "      <th>403</th>\n",
       "      <td>Basketball</td>\n",
       "      <td>1012</td>\n",
       "    </tr>\n",
       "    <tr>\n",
       "      <th>483</th>\n",
       "      <td>Handball</td>\n",
       "      <td>973</td>\n",
       "    </tr>\n",
       "  </tbody>\n",
       "</table>\n",
       "</div>"
      ],
      "text/plain": [
       "                Event  Athlete\n",
       "477          Football     1497\n",
       "489            Hockey     1422\n",
       "614  Team Competition     1147\n",
       "403        Basketball     1012\n",
       "483          Handball      973"
      ]
     },
     "execution_count": 18,
     "metadata": {},
     "output_type": "execute_result"
    }
   ],
   "source": [
    "most_popular_events=df[(df.Event != 0) & (df.Athlete != 0 )][['Event','Athlete']]\n",
    "most_popular_events=most_popular_events.groupby('Event').count().reset_index()\n",
    "most_popular_events=most_popular_events.sort_values(by='Athlete',ascending=False).head()\n",
    "most_popular_events\n"
   ]
  },
  {
   "cell_type": "code",
   "execution_count": 19,
   "id": "bdef7ac7",
   "metadata": {},
   "outputs": [
    {
     "data": {
      "text/plain": [
       "<AxesSubplot:title={'center':'Most Popula Event'}, xlabel='Events', ylabel='Number of Athlete'>"
      ]
     },
     "execution_count": 19,
     "metadata": {},
     "output_type": "execute_result"
    },
    {
     "data": {
      "image/png": "[encoded data removed]",
      "text/plain": [
       "<Figure size 720x360 with 1 Axes>"
      ]
     },
     "metadata": {
      "needs_background": "light"
     },
     "output_type": "display_data"
    }
   ],
   "source": [
    "most_popular_events.plot.bar(xlabel='Events', ylabel='Number of Athlete',title='Most Popula Event',color='red',figsize=(10,5))\n"
   ]
  },
  {
   "cell_type": "markdown",
   "id": "88cf5473",
   "metadata": {},
   "source": [
    "# 8. Which sport is having most female Gold Medalists? (Top 5)"
   ]
  },
  {
   "cell_type": "code",
   "execution_count": 22,
   "id": "4a17f62d",
   "metadata": {},
   "outputs": [
    {
     "data": {
      "text/html": [
       "<div>\n",
       "<style scoped>\n",
       "    .dataframe tbody tr th:only-of-type {\n",
       "        vertical-align: middle;\n",
       "    }\n",
       "\n",
       "    .dataframe tbody tr th {\n",
       "        vertical-align: top;\n",
       "    }\n",
       "\n",
       "    .dataframe thead th {\n",
       "        text-align: right;\n",
       "    }\n",
       "</style>\n",
       "<table border=\"1\" class=\"dataframe\">\n",
       "  <thead>\n",
       "    <tr style=\"text-align: right;\">\n",
       "      <th></th>\n",
       "      <th>Sport</th>\n",
       "      <th>Medal</th>\n",
       "    </tr>\n",
       "  </thead>\n",
       "  <tbody>\n",
       "    <tr>\n",
       "      <th>0</th>\n",
       "      <td>Aquatics</td>\n",
       "      <td>589</td>\n",
       "    </tr>\n",
       "    <tr>\n",
       "      <th>2</th>\n",
       "      <td>Athletics</td>\n",
       "      <td>389</td>\n",
       "    </tr>\n",
       "    <tr>\n",
       "      <th>13</th>\n",
       "      <td>Gymnastics</td>\n",
       "      <td>268</td>\n",
       "    </tr>\n",
       "    <tr>\n",
       "      <th>18</th>\n",
       "      <td>Rowing</td>\n",
       "      <td>217</td>\n",
       "    </tr>\n",
       "    <tr>\n",
       "      <th>27</th>\n",
       "      <td>Volleyball</td>\n",
       "      <td>166</td>\n",
       "    </tr>\n",
       "  </tbody>\n",
       "</table>\n",
       "</div>"
      ],
      "text/plain": [
       "         Sport  Medal\n",
       "0     Aquatics    589\n",
       "2    Athletics    389\n",
       "13  Gymnastics    268\n",
       "18      Rowing    217\n",
       "27  Volleyball    166"
      ]
     },
     "execution_count": 22,
     "metadata": {},
     "output_type": "execute_result"
    }
   ],
   "source": [
    "sport_most_female_gold_medals=df[(df.Gender =='Women') & (df.Medal =='Gold')][['Sport','Medal']]\n",
    "sport_most_female_gold_medals=sport_most_female_gold_medals.groupby('Sport').count().reset_index()\n",
    "sport_most_female_gold_medals=sport_most_female_gold_medals.sort_values(by='Medal', ascending=False).head()\n",
    "sport_most_female_gold_medals"
   ]
  },
  {
   "cell_type": "code",
   "execution_count": 24,
   "id": "0e255654",
   "metadata": {},
   "outputs": [
    {
     "data": {
      "text/plain": [
       "<AxesSubplot:title={'center':'Sport having most female Gold Medalists'}, xlabel='Sport', ylabel='Medal'>"
      ]
     },
     "execution_count": 24,
     "metadata": {},
     "output_type": "execute_result"
    },
    {
     "data": {
      "image/png": "[encoded data removed]",
      "text/plain": [
       "<Figure size 720x360 with 1 Axes>"
      ]
     },
     "metadata": {
      "needs_background": "light"
     },
     "output_type": "display_data"
    }
   ],
   "source": [
    "\n",
    "m.figure(figsize=(10,5))\n",
    "sns.set(style=\"darkgrid\")\n",
    "m.title('Sport having most female Gold Medalists')\n",
    "sns.barplot(x='Sport',y='Medal',data=sport_most_female_gold_medals)"
   ]
  },
  {
   "cell_type": "code",
   "execution_count": null,
   "id": "602e6815",
   "metadata": {},
   "outputs": [],
   "source": []
  }
 ],
 "metadata": {
  "kernelspec": {
   "display_name": "Python 3",
   "language": "python",
   "name": "python3"
  },
  "language_info": {
   "codemirror_mode": {
    "name": "ipython",
    "version": 3
   },
   "file_extension": ".py",
   "mimetype": "text/x-python",
   "name": "python",
   "nbconvert_exporter": "python",
   "pygments_lexer": "ipython3",
   "version": "3.8.8"
  }
 },
 "nbformat": 4,
 "nbformat_minor": 5
}
